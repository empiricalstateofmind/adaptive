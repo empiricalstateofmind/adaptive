{
 "cells": [
  {
   "cell_type": "markdown",
   "metadata": {},
   "source": [
    "# Adaptive Voter Model Simulation\n",
    "\n",
    "A short tutorial on using the adaptive voter simulation package.\n",
    "\n",
    "We start by importing the ```AdaptiveVoter``` class from the package. \n",
    "This is the only class we need for the simulation and almost all the code for running the simulation is contained within this one class."
   ]
  },
  {
   "cell_type": "code",
   "execution_count": 1,
   "metadata": {},
   "outputs": [
    {
     "name": "stdout",
     "output_type": "stream",
     "text": [
      "Populating the interactive namespace from numpy and matplotlib\n"
     ]
    }
   ],
   "source": [
    "%pylab inline\n",
    "\n",
    "from adaptive import AdaptiveVoter\n",
    "\n",
    "import networkx as nx\n",
    "import numpy as np"
   ]
  },
  {
   "cell_type": "markdown",
   "metadata": {},
   "source": [
    "### Creating a Simulation From Scratch\n",
    "\n",
    "To build a new simulation, we need to specify the parameters of the model.\n",
    "These are:\n",
    "* kap: The preferred degree of the nodes.\n",
    "* r: The probability of an node update (otherwise an edge update occurs).\n",
    "* h: Homophily parameter. +1 for complete homophily, -1 for heterophily.\n",
    "* T: Temperature. Controls how likely a node will change state randomly.\n",
    "* f: Fraction of neighbourhood required for node state change."
   ]
  },
  {
   "cell_type": "code",
   "execution_count": 2,
   "metadata": {
    "collapsed": true
   },
   "outputs": [],
   "source": [
    "sim = AdaptiveVoter(kap=10,\n",
    "                    r=0,\n",
    "                    h=0, \n",
    "                    T=0, \n",
    "                    f=0)"
   ]
  },
  {
   "cell_type": "markdown",
   "metadata": {},
   "source": [
    "We then need to set the initial graph structure. \n",
    "We can do this by building a graph using NetworkX and then adding this to the simulation using ```.set_initial_network()```."
   ]
  },
  {
   "cell_type": "code",
   "execution_count": 3,
   "metadata": {
    "collapsed": true
   },
   "outputs": [],
   "source": [
    "G = nx.erdos_renyi_graph(40, 0.05)\n",
    "\n",
    "sim.set_initial_network(G)"
   ]
  },
  {
   "cell_type": "markdown",
   "metadata": {},
   "source": [
    "We also need to set the initial condition of the node opinions (which are either -1 or +1).\n",
    "We can specify these states using a vector of opinions, or omit any parameter for a random initial state."
   ]
  },
  {
   "cell_type": "code",
   "execution_count": 4,
   "metadata": {
    "collapsed": true
   },
   "outputs": [],
   "source": [
    "# Prescribed initial condition\n",
    "sim.set_inital_condition(np.ones(len(G)))\n",
    "\n",
    "# Random initial condition\n",
    "sim.set_inital_condition()"
   ]
  },
  {
   "cell_type": "markdown",
   "metadata": {},
   "source": [
    "To run a single iteration of the simulation we call ```.run_iteration()```.\n",
    "Currently this does not guarantee that any event (state change) will occur."
   ]
  },
  {
   "cell_type": "code",
   "execution_count": 5,
   "metadata": {
    "collapsed": true
   },
   "outputs": [],
   "source": [
    "sim.run_iteration()"
   ]
  },
  {
   "cell_type": "markdown",
   "metadata": {},
   "source": [
    "More likely, we will want to run many iterations at once.\n",
    "We can do this simply by calling ```.run(iterations)```."
   ]
  },
  {
   "cell_type": "code",
   "execution_count": 6,
   "metadata": {
    "collapsed": true
   },
   "outputs": [],
   "source": [
    "sim.run(iterations=1000)"
   ]
  },
  {
   "cell_type": "markdown",
   "metadata": {},
   "source": [
    "### Querying the Simulation"
   ]
  },
  {
   "cell_type": "markdown",
   "metadata": {},
   "source": [
    "To query the simulation at any given point we can access the simulation variables.\n",
    "\n",
    "The opinion vector is stored as ```S```."
   ]
  },
  {
   "cell_type": "code",
   "execution_count": 7,
   "metadata": {},
   "outputs": [
    {
     "data": {
      "text/plain": [
       "array([-1, -1, -1, -1,  1,  1, -1, -1, -1,  1, -1, -1, -1, -1, -1, -1, -1,\n",
       "        1, -1,  1,  1,  1,  1,  1, -1, -1,  1, -1,  1, -1, -1, -1, -1,  1,\n",
       "        1, -1,  1, -1, -1,  1])"
      ]
     },
     "execution_count": 7,
     "metadata": {},
     "output_type": "execute_result"
    }
   ],
   "source": [
    "sim.S"
   ]
  },
  {
   "cell_type": "markdown",
   "metadata": {},
   "source": [
    "The node degrees are stored as ```K```, and the adjacency matrix is stored as ```A```."
   ]
  },
  {
   "cell_type": "code",
   "execution_count": 8,
   "metadata": {},
   "outputs": [
    {
     "data": {
      "text/plain": [
       "array([12., 11.,  8., 10., 10., 12., 10., 10.,  6., 11.,  9., 12., 10.,\n",
       "       10., 10., 12., 11., 10., 12., 11., 11., 11., 10., 12., 11., 13.,\n",
       "        8., 11., 11., 11.,  9., 10., 11.,  8., 11., 10., 10., 10., 11.,\n",
       "       10.])"
      ]
     },
     "execution_count": 8,
     "metadata": {},
     "output_type": "execute_result"
    }
   ],
   "source": [
    "sim.K"
   ]
  },
  {
   "cell_type": "markdown",
   "metadata": {},
   "source": [
    "The excess degree is stored as ```X```."
   ]
  },
  {
   "cell_type": "code",
   "execution_count": 9,
   "metadata": {},
   "outputs": [
    {
     "data": {
      "text/plain": [
       "array([-2., -5., -6., -4.,  2., -2., -6., -4., -2.,  7., -3.,  0.,  0.,\n",
       "       -2., -2., -4., -5., -0., -2.,  1.,  1.,  3.,  6.,  2.,  1., -5.,\n",
       "        2.,  1.,  1., -5.,  1., -2., -3.,  2.,  5.,  0.,  4.,  0., -5.,\n",
       "        6.])"
      ]
     },
     "execution_count": 9,
     "metadata": {},
     "output_type": "execute_result"
    }
   ],
   "source": [
    "sim.X"
   ]
  },
  {
   "cell_type": "markdown",
   "metadata": {},
   "source": [
    "### Queries at different points in time.\n",
    "\n",
    "There may be instances where we want to query what the system state was at a particular time.\n",
    "We can move the simulation to a particular point in time by using the ```.build``` function."
   ]
  },
  {
   "cell_type": "code",
   "execution_count": 21,
   "metadata": {},
   "outputs": [
    {
     "data": {
      "text/plain": [
       "True"
      ]
     },
     "execution_count": 21,
     "metadata": {},
     "output_type": "execute_result"
    }
   ],
   "source": [
    "sim.build(500)"
   ]
  },
  {
   "cell_type": "markdown",
   "metadata": {},
   "source": [
    "Since our simulation is 1001 iterations in, and we have moved the simulation back to $t=500$, we cannot run further iterations, as shown below."
   ]
  },
  {
   "cell_type": "code",
   "execution_count": 22,
   "metadata": {},
   "outputs": [
    {
     "ename": "Exception",
     "evalue": "Current view of simulation (pointer=500) is behind final state (t=1001). Move pointer forward to proceed.",
     "output_type": "error",
     "traceback": [
      "\u001b[0;31m---------------------------------------------------------------------------\u001b[0m",
      "\u001b[0;31mException\u001b[0m                                 Traceback (most recent call last)",
      "\u001b[0;32m<ipython-input-22-c4e38f0375c7>\u001b[0m in \u001b[0;36m<module>\u001b[0;34m()\u001b[0m\n\u001b[0;32m----> 1\u001b[0;31m \u001b[0msim\u001b[0m\u001b[0;34m.\u001b[0m\u001b[0mrun_iteration\u001b[0m\u001b[0;34m(\u001b[0m\u001b[0;34m)\u001b[0m\u001b[0;34m\u001b[0m\u001b[0m\n\u001b[0m",
      "\u001b[0;32m adaptive/adaptive/model.py\u001b[0m in \u001b[0;36mrun_iteration\u001b[0;34m(self)\u001b[0m\n\u001b[1;32m    247\u001b[0m \u001b[0;34m\u001b[0m\u001b[0m\n\u001b[1;32m    248\u001b[0m                 \u001b[0;32mif\u001b[0m \u001b[0mself\u001b[0m\u001b[0;34m.\u001b[0m\u001b[0mpointer\u001b[0m \u001b[0;34m<\u001b[0m \u001b[0mself\u001b[0m\u001b[0;34m.\u001b[0m\u001b[0mt\u001b[0m\u001b[0;34m:\u001b[0m\u001b[0;34m\u001b[0m\u001b[0m\n\u001b[0;32m--> 249\u001b[0;31m                         \u001b[0;32mraise\u001b[0m \u001b[0mException\u001b[0m\u001b[0;34m(\u001b[0m\u001b[0;34m\"Current view of simulation (pointer={}) is behind final state (t={}). Move pointer forward to proceed.\"\u001b[0m\u001b[0;34m.\u001b[0m\u001b[0mformat\u001b[0m\u001b[0;34m(\u001b[0m\u001b[0mself\u001b[0m\u001b[0;34m.\u001b[0m\u001b[0mpointer\u001b[0m\u001b[0;34m,\u001b[0m \u001b[0mself\u001b[0m\u001b[0;34m.\u001b[0m\u001b[0mt\u001b[0m\u001b[0;34m)\u001b[0m\u001b[0;34m)\u001b[0m\u001b[0;34m\u001b[0m\u001b[0m\n\u001b[0m\u001b[1;32m    250\u001b[0m \u001b[0;34m\u001b[0m\u001b[0m\n\u001b[1;32m    251\u001b[0m                 \u001b[0;31m# Move time onwards\u001b[0m\u001b[0;34m\u001b[0m\u001b[0;34m\u001b[0m\u001b[0m\n",
      "\u001b[0;31mException\u001b[0m: Current view of simulation (pointer=500) is behind final state (t=1001). Move pointer forward to proceed."
     ]
    }
   ],
   "source": [
    "sim.run_iteration()"
   ]
  },
  {
   "cell_type": "markdown",
   "metadata": {},
   "source": [
    "We first need to build the simulation back to the latest timepoint so that we can progress the simulation further.\n",
    "This can be achived by specifying the final time, or using 'max'."
   ]
  },
  {
   "cell_type": "code",
   "execution_count": 23,
   "metadata": {},
   "outputs": [
    {
     "data": {
      "text/plain": [
       "True"
      ]
     },
     "execution_count": 23,
     "metadata": {},
     "output_type": "execute_result"
    }
   ],
   "source": [
    "sim.build('max')"
   ]
  },
  {
   "cell_type": "code",
   "execution_count": 24,
   "metadata": {
    "collapsed": true
   },
   "outputs": [],
   "source": [
    "sim.run_iteration()"
   ]
  },
  {
   "cell_type": "markdown",
   "metadata": {},
   "source": [
    "### Plotting\n",
    "\n",
    "We can return the graph of the current state using ```.to_graph()```.\n",
    "This returns a NetworkX graph where the nodes have an 'opinion' attribute which can be used to change the node colour."
   ]
  },
  {
   "cell_type": "code",
   "execution_count": 10,
   "metadata": {},
   "outputs": [
    {
     "data": {
      "image/png": "[encoded data removed]",
      "text/plain": [
       "<matplotlib.figure.Figure at 0x7f74b7bc7b00>"
      ]
     },
     "metadata": {},
     "output_type": "display_data"
    }
   ],
   "source": [
    "G = sim.to_graph()\n",
    "\n",
    "# Plotting will be incorporated into the package in the future.\n",
    "nodes = G.nodes()\n",
    "cmap = {-1:'r', 1:'g'}\n",
    "node_colors = [cmap[val] for key,val in nx.get_node_attributes(G,'opinion').items()]\n",
    "pos = nx.spring_layout(G)\n",
    "nx.draw_networkx_nodes(G, node_color=node_colors, pos=pos)\n",
    "nx.draw_networkx_edges(G, pos=pos)\n",
    "plt.axis('off');"
   ]
  },
  {
   "cell_type": "markdown",
   "metadata": {},
   "source": [
    "### Saving and Loading\n",
    "\n",
    "Saving a simulation is simple.\n",
    "Simulations are saved as JSON files, and can be compressed to save space."
   ]
  },
  {
   "cell_type": "code",
   "execution_count": 11,
   "metadata": {
    "collapsed": true
   },
   "outputs": [],
   "source": [
    "sim.save_to_file('./test.json', compressed=True)"
   ]
  },
  {
   "cell_type": "markdown",
   "metadata": {},
   "source": [
    "Loading a simulation is through the ```from_saved_simulation``` classmethod.\n",
    "In this case all that needs to be specified is a path to a valid AdaptiveVoter simulation.\n",
    "\n",
    "**Note**: To continue running the simulation it first needs to be built."
   ]
  },
  {
   "cell_type": "code",
   "execution_count": 12,
   "metadata": {
    "collapsed": true
   },
   "outputs": [],
   "source": [
    "sim = AdaptiveVoter.from_saved_simulation(filepath='./test.json.gz')"
   ]
  },
  {
   "cell_type": "markdown",
   "metadata": {},
   "source": [
    "### Simulation Statistics\n",
    "\n",
    "What we ultimately want from the simulation is to track the evolution of certain attributes of the system.\n",
    "We can do this using the ```process_timeseries``` function.\n",
    "There are also some basic functions included in the package (they can mostly fit on one line) to illustrate the possiblities."
   ]
  },
  {
   "cell_type": "code",
   "execution_count": 13,
   "metadata": {},
   "outputs": [],
   "source": [
    "from adaptive import process_timeseries, mean_opinion, mean_degree, degree, active_links"
   ]
  },
  {
   "cell_type": "markdown",
   "metadata": {},
   "source": [
    "The ```process_timeseries``` function takes a simulation object, a time range for which we want to query, and a list of functions that we want to call at each point in time.\n",
    "In this example, we have taken the mean opinion and degree, as well as the number of active links and the degree vector (should we want to examine the *distribution* of degree over time)."
   ]
  },
  {
   "cell_type": "code",
   "execution_count": 14,
   "metadata": {
    "collapsed": true
   },
   "outputs": [],
   "source": [
    "result = process_timeseries(sim, np.linspace(0,1000,40), [mean_opinion, mean_degree, degree, active_links])"
   ]
  },
  {
   "cell_type": "markdown",
   "metadata": {},
   "source": [
    "The result is a dictionary with a timeseries (also saved as a dictionary) for each function we call.\n",
    "We can plot the results below (alternatively one might convert to a Pandas Series or DataFrame for convenience)."
   ]
  },
  {
   "cell_type": "code",
   "execution_count": 15,
   "metadata": {},
   "outputs": [
    {
     "data": {
      "image/png": "[encoded data removed]",
      "text/plain": [
       "<matplotlib.figure.Figure at 0x7f74b5fd75f8>"
      ]
     },
     "metadata": {},
     "output_type": "display_data"
    }
   ],
   "source": [
    "mdegree = result['mean_degree']\n",
    "plt.plot(list(mdegree.keys()), list(mdegree.values()));"
   ]
  },
  {
   "cell_type": "markdown",
   "metadata": {},
   "source": [
    "We can create our own statistic to measure over time by creating a custom function.\n",
    "The only requirements for the function is that it takes a single paramter (the simulation), and makes valid calls to the simulation object.\n",
    "\n",
    "Below we create a clustering coefficient function and track its value over time."
   ]
  },
  {
   "cell_type": "code",
   "execution_count": 28,
   "metadata": {},
   "outputs": [],
   "source": [
    "def clustering(simulation):\n",
    "    \"\"\"Calculates the clustering coefficient of a simulation.\"\"\"\n",
    "    A = simulation.A\n",
    "    A2 = A.dot(A)\n",
    "    A3 = A2.dot(A)\n",
    "    \n",
    "    num = np.trace(A3)\n",
    "    den = (np.sum(A2)-np.trace(A2))\n",
    "    if num == 0: \n",
    "        return 0\n",
    "    return num / den\n",
    "\n",
    "result = process_timeseries(sim, np.linspace(0,1000,40), [clustering])"
   ]
  },
  {
   "cell_type": "code",
   "execution_count": 29,
   "metadata": {},
   "outputs": [
    {
     "data": {
      "image/png": "[encoded data removed]",
      "text/plain": [
       "<matplotlib.figure.Figure at 0x7f74b7bb2128>"
      ]
     },
     "metadata": {},
     "output_type": "display_data"
    }
   ],
   "source": [
    "clust = result['clustering']\n",
    "plt.plot(list(clust.keys()), list(clust.values()));"
   ]
  }
 ],
 "metadata": {
  "kernelspec": {
   "display_name": "Python [conda env:anaconda3]",
   "language": "python",
   "name": "conda-env-anaconda3-py"
  },
  "language_info": {
   "codemirror_mode": {
    "name": "ipython",
    "version": 3
   },
   "file_extension": ".py",
   "mimetype": "text/x-python",
   "name": "python",
   "nbconvert_exporter": "python",
   "pygments_lexer": "ipython3",
   "version": "3.6.1"
  }
 },
 "nbformat": 4,
 "nbformat_minor": 2
}
